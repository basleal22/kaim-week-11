{
 "cells": [
  {
   "cell_type": "code",
   "execution_count": 22,
   "metadata": {},
   "outputs": [],
   "source": [
    "import pandas as pd\n",
    "import os\n",
    "import yfinance as yf\n",
    "os.chdir('C:/Users/basleal/Desktop/tutorial/kaim-week-11')"
   ]
  },
  {
   "cell_type": "code",
   "execution_count": 29,
   "metadata": {},
   "outputs": [],
   "source": [
    "%load_ext autoreload\n",
    "%autoreload 2"
   ]
  },
  {
   "cell_type": "code",
   "execution_count": 23,
   "metadata": {},
   "outputs": [
    {
     "name": "stderr",
     "output_type": "stream",
     "text": [
      "[*********************100%***********************]  3 of 3 completed\n"
     ]
    }
   ],
   "source": [
    "ticker = ['TSLA','BND','SPY']\n",
    "starttime = '2015-01-01'\n",
    "endtime = '2025-01-31'\n",
    "data = yf.download(ticker,start=starttime,end=endtime)"
   ]
  },
  {
   "cell_type": "code",
   "execution_count": 28,
   "metadata": {},
   "outputs": [
    {
     "data": {
      "text/html": [
       "<div>\n",
       "<style scoped>\n",
       "    .dataframe tbody tr th:only-of-type {\n",
       "        vertical-align: middle;\n",
       "    }\n",
       "\n",
       "    .dataframe tbody tr th {\n",
       "        vertical-align: top;\n",
       "    }\n",
       "\n",
       "    .dataframe thead tr th {\n",
       "        text-align: left;\n",
       "    }\n",
       "\n",
       "    .dataframe thead tr:last-of-type th {\n",
       "        text-align: right;\n",
       "    }\n",
       "</style>\n",
       "<table border=\"1\" class=\"dataframe\">\n",
       "  <thead>\n",
       "    <tr>\n",
       "      <th>Price</th>\n",
       "      <th colspan=\"3\" halign=\"left\">Close</th>\n",
       "      <th colspan=\"3\" halign=\"left\">High</th>\n",
       "      <th colspan=\"3\" halign=\"left\">Low</th>\n",
       "      <th colspan=\"3\" halign=\"left\">Open</th>\n",
       "      <th colspan=\"3\" halign=\"left\">Volume</th>\n",
       "    </tr>\n",
       "    <tr>\n",
       "      <th>Ticker</th>\n",
       "      <th>BND</th>\n",
       "      <th>SPY</th>\n",
       "      <th>TSLA</th>\n",
       "      <th>BND</th>\n",
       "      <th>SPY</th>\n",
       "      <th>TSLA</th>\n",
       "      <th>BND</th>\n",
       "      <th>SPY</th>\n",
       "      <th>TSLA</th>\n",
       "      <th>BND</th>\n",
       "      <th>SPY</th>\n",
       "      <th>TSLA</th>\n",
       "      <th>BND</th>\n",
       "      <th>SPY</th>\n",
       "      <th>TSLA</th>\n",
       "    </tr>\n",
       "    <tr>\n",
       "      <th>Date</th>\n",
       "      <th></th>\n",
       "      <th></th>\n",
       "      <th></th>\n",
       "      <th></th>\n",
       "      <th></th>\n",
       "      <th></th>\n",
       "      <th></th>\n",
       "      <th></th>\n",
       "      <th></th>\n",
       "      <th></th>\n",
       "      <th></th>\n",
       "      <th></th>\n",
       "      <th></th>\n",
       "      <th></th>\n",
       "      <th></th>\n",
       "    </tr>\n",
       "  </thead>\n",
       "  <tbody>\n",
       "    <tr>\n",
       "      <th>2015-01-02</th>\n",
       "      <td>62.573097</td>\n",
       "      <td>172.592850</td>\n",
       "      <td>14.620667</td>\n",
       "      <td>62.603381</td>\n",
       "      <td>173.811083</td>\n",
       "      <td>14.883333</td>\n",
       "      <td>62.398965</td>\n",
       "      <td>171.542657</td>\n",
       "      <td>14.217333</td>\n",
       "      <td>62.406538</td>\n",
       "      <td>173.391006</td>\n",
       "      <td>14.858000</td>\n",
       "      <td>2218800</td>\n",
       "      <td>121465900</td>\n",
       "      <td>71466000</td>\n",
       "    </tr>\n",
       "    <tr>\n",
       "      <th>2015-01-05</th>\n",
       "      <td>62.754814</td>\n",
       "      <td>169.475937</td>\n",
       "      <td>14.006000</td>\n",
       "      <td>62.777526</td>\n",
       "      <td>171.702341</td>\n",
       "      <td>14.433333</td>\n",
       "      <td>62.610966</td>\n",
       "      <td>169.165084</td>\n",
       "      <td>13.810667</td>\n",
       "      <td>62.641250</td>\n",
       "      <td>171.534312</td>\n",
       "      <td>14.303333</td>\n",
       "      <td>5820100</td>\n",
       "      <td>169632600</td>\n",
       "      <td>80527500</td>\n",
       "    </tr>\n",
       "    <tr>\n",
       "      <th>2015-01-06</th>\n",
       "      <td>62.936508</td>\n",
       "      <td>167.879623</td>\n",
       "      <td>14.085333</td>\n",
       "      <td>63.125780</td>\n",
       "      <td>170.316066</td>\n",
       "      <td>14.280000</td>\n",
       "      <td>62.860801</td>\n",
       "      <td>167.073070</td>\n",
       "      <td>13.614000</td>\n",
       "      <td>62.860801</td>\n",
       "      <td>169.786764</td>\n",
       "      <td>14.004000</td>\n",
       "      <td>3887600</td>\n",
       "      <td>209151400</td>\n",
       "      <td>93928500</td>\n",
       "    </tr>\n",
       "    <tr>\n",
       "      <th>2015-01-07</th>\n",
       "      <td>62.974392</td>\n",
       "      <td>169.971619</td>\n",
       "      <td>14.063333</td>\n",
       "      <td>63.050099</td>\n",
       "      <td>170.316085</td>\n",
       "      <td>14.318667</td>\n",
       "      <td>62.875973</td>\n",
       "      <td>168.770204</td>\n",
       "      <td>13.985333</td>\n",
       "      <td>62.944108</td>\n",
       "      <td>169.223882</td>\n",
       "      <td>14.223333</td>\n",
       "      <td>2433400</td>\n",
       "      <td>125346700</td>\n",
       "      <td>44526000</td>\n",
       "    </tr>\n",
       "    <tr>\n",
       "      <th>2015-01-08</th>\n",
       "      <td>62.875988</td>\n",
       "      <td>172.987747</td>\n",
       "      <td>14.041333</td>\n",
       "      <td>62.921411</td>\n",
       "      <td>173.206195</td>\n",
       "      <td>14.253333</td>\n",
       "      <td>62.815420</td>\n",
       "      <td>171.383062</td>\n",
       "      <td>14.000667</td>\n",
       "      <td>62.921411</td>\n",
       "      <td>171.399856</td>\n",
       "      <td>14.187333</td>\n",
       "      <td>1873400</td>\n",
       "      <td>147217800</td>\n",
       "      <td>51637500</td>\n",
       "    </tr>\n",
       "    <tr>\n",
       "      <th>...</th>\n",
       "      <td>...</td>\n",
       "      <td>...</td>\n",
       "      <td>...</td>\n",
       "      <td>...</td>\n",
       "      <td>...</td>\n",
       "      <td>...</td>\n",
       "      <td>...</td>\n",
       "      <td>...</td>\n",
       "      <td>...</td>\n",
       "      <td>...</td>\n",
       "      <td>...</td>\n",
       "      <td>...</td>\n",
       "      <td>...</td>\n",
       "      <td>...</td>\n",
       "      <td>...</td>\n",
       "    </tr>\n",
       "    <tr>\n",
       "      <th>2025-01-24</th>\n",
       "      <td>71.805977</td>\n",
       "      <td>607.969971</td>\n",
       "      <td>406.579987</td>\n",
       "      <td>71.855810</td>\n",
       "      <td>610.780029</td>\n",
       "      <td>418.880005</td>\n",
       "      <td>71.636531</td>\n",
       "      <td>606.799988</td>\n",
       "      <td>405.779999</td>\n",
       "      <td>71.766106</td>\n",
       "      <td>609.809998</td>\n",
       "      <td>414.450012</td>\n",
       "      <td>5555700</td>\n",
       "      <td>34604700</td>\n",
       "      <td>56427100</td>\n",
       "    </tr>\n",
       "    <tr>\n",
       "      <th>2025-01-27</th>\n",
       "      <td>72.184738</td>\n",
       "      <td>599.369995</td>\n",
       "      <td>397.149994</td>\n",
       "      <td>72.204677</td>\n",
       "      <td>599.690002</td>\n",
       "      <td>406.690002</td>\n",
       "      <td>72.025262</td>\n",
       "      <td>594.640015</td>\n",
       "      <td>389.000000</td>\n",
       "      <td>72.104996</td>\n",
       "      <td>594.809998</td>\n",
       "      <td>394.799988</td>\n",
       "      <td>8621200</td>\n",
       "      <td>70361100</td>\n",
       "      <td>58125500</td>\n",
       "    </tr>\n",
       "    <tr>\n",
       "      <th>2025-01-28</th>\n",
       "      <td>72.144867</td>\n",
       "      <td>604.520020</td>\n",
       "      <td>398.089996</td>\n",
       "      <td>72.154837</td>\n",
       "      <td>605.369995</td>\n",
       "      <td>400.589996</td>\n",
       "      <td>71.975421</td>\n",
       "      <td>597.250000</td>\n",
       "      <td>386.500000</td>\n",
       "      <td>72.154837</td>\n",
       "      <td>600.619995</td>\n",
       "      <td>396.910004</td>\n",
       "      <td>4424300</td>\n",
       "      <td>44433300</td>\n",
       "      <td>48910700</td>\n",
       "    </tr>\n",
       "    <tr>\n",
       "      <th>2025-01-29</th>\n",
       "      <td>72.104996</td>\n",
       "      <td>601.809998</td>\n",
       "      <td>389.100006</td>\n",
       "      <td>72.254510</td>\n",
       "      <td>604.130005</td>\n",
       "      <td>398.589996</td>\n",
       "      <td>71.935550</td>\n",
       "      <td>599.219971</td>\n",
       "      <td>384.480011</td>\n",
       "      <td>72.194707</td>\n",
       "      <td>603.719971</td>\n",
       "      <td>395.209991</td>\n",
       "      <td>5780200</td>\n",
       "      <td>37177400</td>\n",
       "      <td>68033600</td>\n",
       "    </tr>\n",
       "    <tr>\n",
       "      <th>2025-01-30</th>\n",
       "      <td>72.204674</td>\n",
       "      <td>605.039978</td>\n",
       "      <td>400.279999</td>\n",
       "      <td>72.294378</td>\n",
       "      <td>606.599976</td>\n",
       "      <td>412.500000</td>\n",
       "      <td>72.144864</td>\n",
       "      <td>600.719971</td>\n",
       "      <td>384.410004</td>\n",
       "      <td>72.224605</td>\n",
       "      <td>603.960022</td>\n",
       "      <td>410.779999</td>\n",
       "      <td>5622300</td>\n",
       "      <td>39281300</td>\n",
       "      <td>98092900</td>\n",
       "    </tr>\n",
       "  </tbody>\n",
       "</table>\n",
       "<p>2535 rows × 15 columns</p>\n",
       "</div>"
      ],
      "text/plain": [
       "Price           Close                               High              \\\n",
       "Ticker            BND         SPY        TSLA        BND         SPY   \n",
       "Date                                                                   \n",
       "2015-01-02  62.573097  172.592850   14.620667  62.603381  173.811083   \n",
       "2015-01-05  62.754814  169.475937   14.006000  62.777526  171.702341   \n",
       "2015-01-06  62.936508  167.879623   14.085333  63.125780  170.316066   \n",
       "2015-01-07  62.974392  169.971619   14.063333  63.050099  170.316085   \n",
       "2015-01-08  62.875988  172.987747   14.041333  62.921411  173.206195   \n",
       "...               ...         ...         ...        ...         ...   \n",
       "2025-01-24  71.805977  607.969971  406.579987  71.855810  610.780029   \n",
       "2025-01-27  72.184738  599.369995  397.149994  72.204677  599.690002   \n",
       "2025-01-28  72.144867  604.520020  398.089996  72.154837  605.369995   \n",
       "2025-01-29  72.104996  601.809998  389.100006  72.254510  604.130005   \n",
       "2025-01-30  72.204674  605.039978  400.279999  72.294378  606.599976   \n",
       "\n",
       "Price                         Low                               Open  \\\n",
       "Ticker            TSLA        BND         SPY        TSLA        BND   \n",
       "Date                                                                   \n",
       "2015-01-02   14.883333  62.398965  171.542657   14.217333  62.406538   \n",
       "2015-01-05   14.433333  62.610966  169.165084   13.810667  62.641250   \n",
       "2015-01-06   14.280000  62.860801  167.073070   13.614000  62.860801   \n",
       "2015-01-07   14.318667  62.875973  168.770204   13.985333  62.944108   \n",
       "2015-01-08   14.253333  62.815420  171.383062   14.000667  62.921411   \n",
       "...                ...        ...         ...         ...        ...   \n",
       "2025-01-24  418.880005  71.636531  606.799988  405.779999  71.766106   \n",
       "2025-01-27  406.690002  72.025262  594.640015  389.000000  72.104996   \n",
       "2025-01-28  400.589996  71.975421  597.250000  386.500000  72.154837   \n",
       "2025-01-29  398.589996  71.935550  599.219971  384.480011  72.194707   \n",
       "2025-01-30  412.500000  72.144864  600.719971  384.410004  72.224605   \n",
       "\n",
       "Price                                Volume                       \n",
       "Ticker             SPY        TSLA      BND        SPY      TSLA  \n",
       "Date                                                              \n",
       "2015-01-02  173.391006   14.858000  2218800  121465900  71466000  \n",
       "2015-01-05  171.534312   14.303333  5820100  169632600  80527500  \n",
       "2015-01-06  169.786764   14.004000  3887600  209151400  93928500  \n",
       "2015-01-07  169.223882   14.223333  2433400  125346700  44526000  \n",
       "2015-01-08  171.399856   14.187333  1873400  147217800  51637500  \n",
       "...                ...         ...      ...        ...       ...  \n",
       "2025-01-24  609.809998  414.450012  5555700   34604700  56427100  \n",
       "2025-01-27  594.809998  394.799988  8621200   70361100  58125500  \n",
       "2025-01-28  600.619995  396.910004  4424300   44433300  48910700  \n",
       "2025-01-29  603.719971  395.209991  5780200   37177400  68033600  \n",
       "2025-01-30  603.960022  410.779999  5622300   39281300  98092900  \n",
       "\n",
       "[2535 rows x 15 columns]"
      ]
     },
     "execution_count": 28,
     "metadata": {},
     "output_type": "execute_result"
    }
   ],
   "source": [
    "data"
   ]
  },
  {
   "cell_type": "markdown",
   "metadata": {},
   "source": [
    "now let's split our codes into test and train"
   ]
  },
  {
   "cell_type": "code",
   "execution_count": 31,
   "metadata": {},
   "outputs": [
    {
     "data": {
      "text/plain": [
       "(2028, 15)"
      ]
     },
     "execution_count": 31,
     "metadata": {},
     "output_type": "execute_result"
    }
   ],
   "source": [
    "from scripts.forecast import split_test_train\n",
    "train,test = split_test_train(data)\n",
    "train.shape"
   ]
  },
  {
   "cell_type": "code",
   "execution_count": 42,
   "metadata": {},
   "outputs": [
    {
     "data": {
      "text/plain": [
       "Index(['Close_BND', 'Close_SPY', 'Close_TSLA', 'High_BND', 'High_SPY',\n",
       "       'High_TSLA', 'Low_BND', 'Low_SPY', 'Low_TSLA', 'Open_BND', 'Open_SPY',\n",
       "       'Open_TSLA', 'Volume_BND', 'Volume_SPY', 'Volume_TSLA'],\n",
       "      dtype='object')"
      ]
     },
     "execution_count": 42,
     "metadata": {},
     "output_type": "execute_result"
    }
   ],
   "source": [
    "train.columns=['_'.join(col) for col in train.columns]#flatten multiIndex\n",
    "train.columns"
   ]
  },
  {
   "cell_type": "code",
   "execution_count": 62,
   "metadata": {},
   "outputs": [
    {
     "data": {
      "text/plain": [
       "Index(['Close_BND', 'Close_SPY', 'Close_TSLA', 'High_BND', 'High_SPY',\n",
       "       'High_TSLA', 'Low_BND', 'Low_SPY', 'Low_TSLA', 'Open_BND', 'Open_SPY',\n",
       "       'Open_TSLA', 'Volume_BND', 'Volume_SPY', 'Volume_TSLA'],\n",
       "      dtype='object')"
      ]
     },
     "execution_count": 62,
     "metadata": {},
     "output_type": "execute_result"
    }
   ],
   "source": [
    "test.columns= ['_'.join(col) for col in test.columns]\n",
    "test.columns"
   ]
  },
  {
   "cell_type": "code",
   "execution_count": 32,
   "metadata": {},
   "outputs": [
    {
     "data": {
      "text/plain": [
       "(507, 15)"
      ]
     },
     "execution_count": 32,
     "metadata": {},
     "output_type": "execute_result"
    }
   ],
   "source": [
    "test.shape"
   ]
  },
  {
   "cell_type": "markdown",
   "metadata": {},
   "source": [
    "Train our data with arima and sarima"
   ]
  },
  {
   "cell_type": "code",
   "execution_count": 56,
   "metadata": {},
   "outputs": [
    {
     "name": "stderr",
     "output_type": "stream",
     "text": [
      "c:\\Users\\basleal\\Desktop\\tutorial\\kaim-week-11\\venv\\Lib\\site-packages\\statsmodels\\tsa\\base\\tsa_model.py:473: ValueWarning: A date index has been provided, but it has no associated frequency information and so will be ignored when e.g. forecasting.\n",
      "  self._init_dates(dates, freq)\n",
      "c:\\Users\\basleal\\Desktop\\tutorial\\kaim-week-11\\venv\\Lib\\site-packages\\statsmodels\\tsa\\base\\tsa_model.py:473: ValueWarning: A date index has been provided, but it has no associated frequency information and so will be ignored when e.g. forecasting.\n",
      "  self._init_dates(dates, freq)\n",
      "c:\\Users\\basleal\\Desktop\\tutorial\\kaim-week-11\\venv\\Lib\\site-packages\\statsmodels\\tsa\\base\\tsa_model.py:473: ValueWarning: A date index has been provided, but it has no associated frequency information and so will be ignored when e.g. forecasting.\n",
      "  self._init_dates(dates, freq)\n"
     ]
    }
   ],
   "source": [
    "from scripts.forecast import arima_model,sarima_model\n",
    "\n",
    "arima_m = arima_model(train,test)"
   ]
  },
  {
   "cell_type": "code",
   "execution_count": 58,
   "metadata": {},
   "outputs": [
    {
     "name": "stdout",
     "output_type": "stream",
     "text": [
      "                               SARIMAX Results                                \n",
      "==============================================================================\n",
      "Dep. Variable:              Close_BND   No. Observations:                 2028\n",
      "Model:                 ARIMA(1, 1, 1)   Log Likelihood                  93.483\n",
      "Date:                Fri, 28 Feb 2025   AIC                           -180.965\n",
      "Time:                        14:28:26   BIC                           -164.123\n",
      "Sample:                             0   HQIC                          -174.785\n",
      "                               - 2028                                         \n",
      "Covariance Type:                  opg                                         \n",
      "==============================================================================\n",
      "                 coef    std err          z      P>|z|      [0.025      0.975]\n",
      "------------------------------------------------------------------------------\n",
      "ar.L1          0.6750      0.082      8.277      0.000       0.515       0.835\n",
      "ma.L1         -0.7108      0.081     -8.805      0.000      -0.869      -0.553\n",
      "sigma2         0.0534      0.000    176.497      0.000       0.053       0.054\n",
      "===================================================================================\n",
      "Ljung-Box (L1) (Q):                   3.84   Jarque-Bera (JB):            352438.25\n",
      "Prob(Q):                              0.05   Prob(JB):                         0.00\n",
      "Heteroskedasticity (H):               3.42   Skew:                            -2.24\n",
      "Prob(H) (two-sided):                  0.00   Kurtosis:                        67.44\n",
      "===================================================================================\n",
      "\n",
      "Warnings:\n",
      "[1] Covariance matrix calculated using the outer product of gradients (complex-step).\n"
     ]
    }
   ],
   "source": [
    "bnd_model = arima_m['Close_BND']\n",
    "spy_model = arima_m['Close_SPY']\n",
    "tsla_model = arima_m['Close_TSLA']\n",
    "print(bnd_model.summary())"
   ]
  },
  {
   "cell_type": "code",
   "execution_count": 59,
   "metadata": {},
   "outputs": [
    {
     "name": "stdout",
     "output_type": "stream",
     "text": [
      "                               SARIMAX Results                                \n",
      "==============================================================================\n",
      "Dep. Variable:              Close_SPY   No. Observations:                 2028\n",
      "Model:                 ARIMA(1, 1, 1)   Log Likelihood               -5360.658\n",
      "Date:                Fri, 28 Feb 2025   AIC                          10727.316\n",
      "Time:                        14:28:35   BIC                          10744.159\n",
      "Sample:                             0   HQIC                         10733.496\n",
      "                               - 2028                                         \n",
      "Covariance Type:                  opg                                         \n",
      "==============================================================================\n",
      "                 coef    std err          z      P>|z|      [0.025      0.975]\n",
      "------------------------------------------------------------------------------\n",
      "ar.L1         -0.3543      0.091     -3.893      0.000      -0.533      -0.176\n",
      "ma.L1          0.2613      0.095      2.747      0.006       0.075       0.448\n",
      "sigma2        11.6042      0.169     68.616      0.000      11.273      11.936\n",
      "===================================================================================\n",
      "Ljung-Box (L1) (Q):                   0.02   Jarque-Bera (JB):              5326.61\n",
      "Prob(Q):                              0.90   Prob(JB):                         0.00\n",
      "Heteroskedasticity (H):              10.16   Skew:                            -0.72\n",
      "Prob(H) (two-sided):                  0.00   Kurtosis:                        10.81\n",
      "===================================================================================\n",
      "\n",
      "Warnings:\n",
      "[1] Covariance matrix calculated using the outer product of gradients (complex-step).\n"
     ]
    }
   ],
   "source": [
    "print(spy_model.summary())"
   ]
  },
  {
   "cell_type": "code",
   "execution_count": 60,
   "metadata": {},
   "outputs": [
    {
     "name": "stdout",
     "output_type": "stream",
     "text": [
      "                               SARIMAX Results                                \n",
      "==============================================================================\n",
      "Dep. Variable:             Close_TSLA   No. Observations:                 2028\n",
      "Model:                 ARIMA(1, 1, 1)   Log Likelihood               -6336.545\n",
      "Date:                Fri, 28 Feb 2025   AIC                          12679.089\n",
      "Time:                        14:28:39   BIC                          12695.932\n",
      "Sample:                             0   HQIC                         12685.269\n",
      "                               - 2028                                         \n",
      "Covariance Type:                  opg                                         \n",
      "==============================================================================\n",
      "                 coef    std err          z      P>|z|      [0.025      0.975]\n",
      "------------------------------------------------------------------------------\n",
      "ar.L1         -0.4805      0.202     -2.376      0.018      -0.877      -0.084\n",
      "ma.L1          0.4420      0.208      2.127      0.033       0.035       0.849\n",
      "sigma2        30.3944      0.332     91.686      0.000      29.745      31.044\n",
      "===================================================================================\n",
      "Ljung-Box (L1) (Q):                   0.00   Jarque-Bera (JB):             18346.17\n",
      "Prob(Q):                              0.98   Prob(JB):                         0.00\n",
      "Heteroskedasticity (H):             591.20   Skew:                            -0.16\n",
      "Prob(H) (two-sided):                  0.00   Kurtosis:                        17.74\n",
      "===================================================================================\n",
      "\n",
      "Warnings:\n",
      "[1] Covariance matrix calculated using the outer product of gradients (complex-step).\n"
     ]
    }
   ],
   "source": [
    "print(tsla_model.summary())"
   ]
  },
  {
   "cell_type": "markdown",
   "metadata": {},
   "source": [
    "now we train s-arima"
   ]
  },
  {
   "cell_type": "code",
   "execution_count": 75,
   "metadata": {},
   "outputs": [
    {
     "name": "stderr",
     "output_type": "stream",
     "text": [
      "c:\\Users\\basleal\\Desktop\\tutorial\\kaim-week-11\\venv\\Lib\\site-packages\\statsmodels\\tsa\\base\\tsa_model.py:473: ValueWarning: A date index has been provided, but it has no associated frequency information and so will be ignored when e.g. forecasting.\n",
      "  self._init_dates(dates, freq)\n",
      "c:\\Users\\basleal\\Desktop\\tutorial\\kaim-week-11\\venv\\Lib\\site-packages\\statsmodels\\tsa\\base\\tsa_model.py:473: ValueWarning: A date index has been provided, but it has no associated frequency information and so will be ignored when e.g. forecasting.\n",
      "  self._init_dates(dates, freq)\n",
      "c:\\Users\\basleal\\Desktop\\tutorial\\kaim-week-11\\venv\\Lib\\site-packages\\statsmodels\\tsa\\base\\tsa_model.py:473: ValueWarning: A date index has been provided, but it has no associated frequency information and so will be ignored when e.g. forecasting.\n",
      "  self._init_dates(dates, freq)\n"
     ]
    },
    {
     "data": {
      "text/html": [
       "<table class=\"simpletable\">\n",
       "<caption>SARIMAX Results</caption>\n",
       "<tr>\n",
       "  <th>Dep. Variable:</th>               <td>Close_BND</td>            <th>  No. Observations:  </th>   <td>2028</td>  \n",
       "</tr>\n",
       "<tr>\n",
       "  <th>Model:</th>           <td>SARIMAX(1, 0, 0)x(1, 1, [1], 12)</td> <th>  Log Likelihood     </th>  <td>68.942</td> \n",
       "</tr>\n",
       "<tr>\n",
       "  <th>Date:</th>                    <td>Fri, 28 Feb 2025</td>         <th>  AIC                </th> <td>-129.885</td>\n",
       "</tr>\n",
       "<tr>\n",
       "  <th>Time:</th>                        <td>15:19:01</td>             <th>  BIC                </th> <td>-107.449</td>\n",
       "</tr>\n",
       "<tr>\n",
       "  <th>Sample:</th>                          <td>0</td>                <th>  HQIC               </th> <td>-121.650</td>\n",
       "</tr>\n",
       "<tr>\n",
       "  <th></th>                              <td> - 2028</td>             <th>                     </th>     <td> </td>   \n",
       "</tr>\n",
       "<tr>\n",
       "  <th>Covariance Type:</th>                <td>opg</td>               <th>                     </th>     <td> </td>   \n",
       "</tr>\n",
       "</table>\n",
       "<table class=\"simpletable\">\n",
       "<tr>\n",
       "      <td></td>        <th>coef</th>     <th>std err</th>      <th>z</th>      <th>P>|z|</th>  <th>[0.025</th>    <th>0.975]</th>  \n",
       "</tr>\n",
       "<tr>\n",
       "  <th>ar.L1</th>    <td>    0.9997</td> <td>    0.003</td> <td>  346.138</td> <td> 0.000</td> <td>    0.994</td> <td>    1.005</td>\n",
       "</tr>\n",
       "<tr>\n",
       "  <th>ar.S.L12</th> <td>   -0.0904</td> <td>    0.018</td> <td>   -4.980</td> <td> 0.000</td> <td>   -0.126</td> <td>   -0.055</td>\n",
       "</tr>\n",
       "<tr>\n",
       "  <th>ma.S.L12</th> <td>   -0.9990</td> <td>    0.056</td> <td>  -17.939</td> <td> 0.000</td> <td>   -1.108</td> <td>   -0.890</td>\n",
       "</tr>\n",
       "<tr>\n",
       "  <th>sigma2</th>   <td>    0.0531</td> <td>    0.003</td> <td>   19.693</td> <td> 0.000</td> <td>    0.048</td> <td>    0.058</td>\n",
       "</tr>\n",
       "</table>\n",
       "<table class=\"simpletable\">\n",
       "<tr>\n",
       "  <th>Ljung-Box (L1) (Q):</th>     <td>0.32</td> <th>  Jarque-Bera (JB):  </th> <td>336343.86</td>\n",
       "</tr>\n",
       "<tr>\n",
       "  <th>Prob(Q):</th>                <td>0.57</td> <th>  Prob(JB):          </th>   <td>0.00</td>   \n",
       "</tr>\n",
       "<tr>\n",
       "  <th>Heteroskedasticity (H):</th> <td>3.42</td> <th>  Skew:              </th>   <td>-1.82</td>  \n",
       "</tr>\n",
       "<tr>\n",
       "  <th>Prob(H) (two-sided):</th>    <td>0.00</td> <th>  Kurtosis:          </th>   <td>66.17</td>  \n",
       "</tr>\n",
       "</table><br/><br/>Warnings:<br/>[1] Covariance matrix calculated using the outer product of gradients (complex-step)."
      ],
      "text/latex": [
       "\\begin{center}\n",
       "\\begin{tabular}{lclc}\n",
       "\\toprule\n",
       "\\textbf{Dep. Variable:}          &            Close\\_BND            & \\textbf{  No. Observations:  } &    2028     \\\\\n",
       "\\textbf{Model:}                  & SARIMAX(1, 0, 0)x(1, 1, [1], 12) & \\textbf{  Log Likelihood     } &   68.942    \\\\\n",
       "\\textbf{Date:}                   &         Fri, 28 Feb 2025         & \\textbf{  AIC                } &  -129.885   \\\\\n",
       "\\textbf{Time:}                   &             15:19:01             & \\textbf{  BIC                } &  -107.449   \\\\\n",
       "\\textbf{Sample:}                 &                0                 & \\textbf{  HQIC               } &  -121.650   \\\\\n",
       "\\textbf{}                        &              - 2028              & \\textbf{                     } &             \\\\\n",
       "\\textbf{Covariance Type:}        &               opg                & \\textbf{                     } &             \\\\\n",
       "\\bottomrule\n",
       "\\end{tabular}\n",
       "\\begin{tabular}{lcccccc}\n",
       "                  & \\textbf{coef} & \\textbf{std err} & \\textbf{z} & \\textbf{P$> |$z$|$} & \\textbf{[0.025} & \\textbf{0.975]}  \\\\\n",
       "\\midrule\n",
       "\\textbf{ar.L1}    &       0.9997  &        0.003     &   346.138  &         0.000        &        0.994    &        1.005     \\\\\n",
       "\\textbf{ar.S.L12} &      -0.0904  &        0.018     &    -4.980  &         0.000        &       -0.126    &       -0.055     \\\\\n",
       "\\textbf{ma.S.L12} &      -0.9990  &        0.056     &   -17.939  &         0.000        &       -1.108    &       -0.890     \\\\\n",
       "\\textbf{sigma2}   &       0.0531  &        0.003     &    19.693  &         0.000        &        0.048    &        0.058     \\\\\n",
       "\\bottomrule\n",
       "\\end{tabular}\n",
       "\\begin{tabular}{lclc}\n",
       "\\textbf{Ljung-Box (L1) (Q):}     & 0.32 & \\textbf{  Jarque-Bera (JB):  } & 336343.86  \\\\\n",
       "\\textbf{Prob(Q):}                & 0.57 & \\textbf{  Prob(JB):          } &    0.00    \\\\\n",
       "\\textbf{Heteroskedasticity (H):} & 3.42 & \\textbf{  Skew:              } &   -1.82    \\\\\n",
       "\\textbf{Prob(H) (two-sided):}    & 0.00 & \\textbf{  Kurtosis:          } &   66.17    \\\\\n",
       "\\bottomrule\n",
       "\\end{tabular}\n",
       "%\\caption{SARIMAX Results}\n",
       "\\end{center}\n",
       "\n",
       "Warnings: \\newline\n",
       " [1] Covariance matrix calculated using the outer product of gradients (complex-step)."
      ],
      "text/plain": [
       "<class 'statsmodels.iolib.summary.Summary'>\n",
       "\"\"\"\n",
       "                                      SARIMAX Results                                       \n",
       "============================================================================================\n",
       "Dep. Variable:                            Close_BND   No. Observations:                 2028\n",
       "Model:             SARIMAX(1, 0, 0)x(1, 1, [1], 12)   Log Likelihood                  68.942\n",
       "Date:                              Fri, 28 Feb 2025   AIC                           -129.885\n",
       "Time:                                      15:19:01   BIC                           -107.449\n",
       "Sample:                                           0   HQIC                          -121.650\n",
       "                                             - 2028                                         \n",
       "Covariance Type:                                opg                                         \n",
       "==============================================================================\n",
       "                 coef    std err          z      P>|z|      [0.025      0.975]\n",
       "------------------------------------------------------------------------------\n",
       "ar.L1          0.9997      0.003    346.138      0.000       0.994       1.005\n",
       "ar.S.L12      -0.0904      0.018     -4.980      0.000      -0.126      -0.055\n",
       "ma.S.L12      -0.9990      0.056    -17.939      0.000      -1.108      -0.890\n",
       "sigma2         0.0531      0.003     19.693      0.000       0.048       0.058\n",
       "===================================================================================\n",
       "Ljung-Box (L1) (Q):                   0.32   Jarque-Bera (JB):            336343.86\n",
       "Prob(Q):                              0.57   Prob(JB):                         0.00\n",
       "Heteroskedasticity (H):               3.42   Skew:                            -1.82\n",
       "Prob(H) (two-sided):                  0.00   Kurtosis:                        66.17\n",
       "===================================================================================\n",
       "\n",
       "Warnings:\n",
       "[1] Covariance matrix calculated using the outer product of gradients (complex-step).\n",
       "\"\"\""
      ]
     },
     "execution_count": 75,
     "metadata": {},
     "output_type": "execute_result"
    }
   ],
   "source": [
    "sarima_m=sarima_model(train,test)\n",
    "bnd_smodel = sarima_m['Close_BND']\n",
    "spy_smodel = sarima_m['Close_SPY']\n",
    "tsla_smodel = sarima_m['Close_TSLA']\n",
    "bnd_smodel.summary()"
   ]
  },
  {
   "cell_type": "code",
   "execution_count": 76,
   "metadata": {},
   "outputs": [
    {
     "name": "stdout",
     "output_type": "stream",
     "text": [
      "                                      SARIMAX Results                                       \n",
      "============================================================================================\n",
      "Dep. Variable:                           Close_TSLA   No. Observations:                 2028\n",
      "Model:             SARIMAX(1, 0, 0)x(1, 1, [1], 12)   Log Likelihood               -6333.420\n",
      "Date:                              Fri, 28 Feb 2025   AIC                          12674.840\n",
      "Time:                                      15:19:04   BIC                          12697.276\n",
      "Sample:                                           0   HQIC                         12683.075\n",
      "                                             - 2028                                         \n",
      "Covariance Type:                                opg                                         \n",
      "==============================================================================\n",
      "                 coef    std err          z      P>|z|      [0.025      0.975]\n",
      "------------------------------------------------------------------------------\n",
      "ar.L1          0.9991      0.001    949.441      0.000       0.997       1.001\n",
      "ar.S.L12       0.0259      0.015      1.769      0.077      -0.003       0.055\n",
      "ma.S.L12      -0.9969      0.012    -80.131      0.000      -1.021      -0.973\n",
      "sigma2        30.5325      0.443     68.965      0.000      29.665      31.400\n",
      "===================================================================================\n",
      "Ljung-Box (L1) (Q):                   2.71   Jarque-Bera (JB):             17845.76\n",
      "Prob(Q):                              0.10   Prob(JB):                         0.00\n",
      "Heteroskedasticity (H):             585.30   Skew:                            -0.19\n",
      "Prob(H) (two-sided):                  0.00   Kurtosis:                        17.57\n",
      "===================================================================================\n",
      "\n",
      "Warnings:\n",
      "[1] Covariance matrix calculated using the outer product of gradients (complex-step).\n"
     ]
    }
   ],
   "source": [
    "print(tsla_smodel.summary())"
   ]
  },
  {
   "cell_type": "markdown",
   "metadata": {},
   "source": [
    "let's forecast on our models "
   ]
  },
  {
   "cell_type": "code",
   "execution_count": 84,
   "metadata": {},
   "outputs": [
    {
     "name": "stdout",
     "output_type": "stream",
     "text": [
      "Date\n",
      "2023-01-24    389.216003\n",
      "2023-01-25    389.361877\n",
      "2023-01-26    393.641083\n",
      "2023-01-27    394.545563\n",
      "2023-01-30    389.595215\n",
      "                 ...    \n",
      "2025-01-24    607.969971\n",
      "2025-01-27    599.369995\n",
      "2025-01-28    604.520020\n",
      "2025-01-29    601.809998\n",
      "2025-01-30    605.039978\n",
      "Name: Close_SPY, Length: 507, dtype: float64\n"
     ]
    }
   ],
   "source": [
    "#first let's prepare our test data for prediction\n",
    "tickers_close=['Close_BND', 'Close_SPY', 'Close_TSLA']\n",
    "test_ticker_BND=test['Close_BND'].squeeze()\n",
    "print(test_ticker_BND)"
   ]
  },
  {
   "cell_type": "code",
   "execution_count": 85,
   "metadata": {},
   "outputs": [
    {
     "name": "stdout",
     "output_type": "stream",
     "text": [
      "mae of our arima model is: 96.24732556854235 \n",
      " mse of our arima model is: 13898.519712952573\n"
     ]
    },
    {
     "name": "stderr",
     "output_type": "stream",
     "text": [
      "c:\\Users\\basleal\\Desktop\\tutorial\\kaim-week-11\\venv\\Lib\\site-packages\\statsmodels\\tsa\\base\\tsa_model.py:837: ValueWarning: No supported index is available. Prediction results will be given with an integer index beginning at `start`.\n",
      "  return get_prediction_index(\n",
      "c:\\Users\\basleal\\Desktop\\tutorial\\kaim-week-11\\venv\\Lib\\site-packages\\statsmodels\\tsa\\base\\tsa_model.py:837: FutureWarning: No supported index is available. In the next version, calling this method in a model without a supported index will result in an exception.\n",
      "  return get_prediction_index(\n"
     ]
    }
   ],
   "source": [
    "from sklearn.metrics import mean_absolute_error,mean_squared_error\n",
    "#let's forcast on our test_ticker\n",
    "forecast_arima = bnd_model.forecast(steps=len(test_ticker_BND))\n",
    "#compute mae\n",
    "mae_arima=mean_absolute_error(test_ticker_BND,forecast_arima)\n",
    "mse_arima=mean_squared_error(test_ticker_BND,forecast_arima)\n",
    "print(f'mae of our arima model is: {mae_arima}','\\n',f'mse of our arima model is: {mse_arima}')\n"
   ]
  },
  {
   "cell_type": "markdown",
   "metadata": {},
   "source": [
    "now let's calculate the mae for s-arima"
   ]
  },
  {
   "cell_type": "code",
   "execution_count": 86,
   "metadata": {},
   "outputs": [
    {
     "name": "stdout",
     "output_type": "stream",
     "text": [
      "mae of our sarima model is: 96.75820134596592 \n",
      " mse of our sarima model is: 14016.667052263201\n"
     ]
    },
    {
     "name": "stderr",
     "output_type": "stream",
     "text": [
      "c:\\Users\\basleal\\Desktop\\tutorial\\kaim-week-11\\venv\\Lib\\site-packages\\statsmodels\\tsa\\base\\tsa_model.py:837: ValueWarning: No supported index is available. Prediction results will be given with an integer index beginning at `start`.\n",
      "  return get_prediction_index(\n",
      "c:\\Users\\basleal\\Desktop\\tutorial\\kaim-week-11\\venv\\Lib\\site-packages\\statsmodels\\tsa\\base\\tsa_model.py:837: FutureWarning: No supported index is available. In the next version, calling this method in a model without a supported index will result in an exception.\n",
      "  return get_prediction_index(\n"
     ]
    }
   ],
   "source": [
    "forecast_sarima=bnd_smodel.forecast(steps=len(test_ticker_BND))\n",
    "#compute mae\n",
    "mae_sarima=mean_absolute_error(test_ticker_BND,forecast_sarima)\n",
    "mse_sarima=mean_squared_error(test_ticker_BND,forecast_sarima)\n",
    "print(f'mae of our sarima model is: {mae_sarima}','\\n',f'mse of our sarima model is: {mse_sarima}')"
   ]
  },
  {
   "cell_type": "code",
   "execution_count": null,
   "metadata": {},
   "outputs": [],
   "source": []
  },
  {
   "cell_type": "code",
   "execution_count": null,
   "metadata": {},
   "outputs": [],
   "source": []
  }
 ],
 "metadata": {
  "kernelspec": {
   "display_name": "venv",
   "language": "python",
   "name": "python3"
  },
  "language_info": {
   "codemirror_mode": {
    "name": "ipython",
    "version": 3
   },
   "file_extension": ".py",
   "mimetype": "text/x-python",
   "name": "python",
   "nbconvert_exporter": "python",
   "pygments_lexer": "ipython3",
   "version": "3.11.7"
  }
 },
 "nbformat": 4,
 "nbformat_minor": 2
}
